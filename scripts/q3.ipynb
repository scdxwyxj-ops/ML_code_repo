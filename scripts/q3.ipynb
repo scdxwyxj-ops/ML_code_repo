{
 "cells": [
  {
   "cell_type": "markdown",
   "id": "4c898de6",
   "metadata": {},
   "source": [
    "# Q3: How Robust Credit Risk Models are Over Time"
   ]
  },
  {
   "cell_type": "markdown",
   "id": "439e68c9",
   "metadata": {},
   "source": [
    "This script compares [INSERT MODEL NAMES] in their performance in credit risk prediction when trained and tested data differ in economic periods."
   ]
  },
  {
   "cell_type": "markdown",
   "id": "616331cf",
   "metadata": {},
   "source": [
    "### Imports"
   ]
  },
  {
   "cell_type": "code",
   "execution_count": 1,
   "id": "fb4505fa",
   "metadata": {},
   "outputs": [],
   "source": [
    "import numpy as np\n",
    "import pandas as pd\n",
    "import os\n",
    "import sys\n",
    "import subprocess\n",
    "from pathlib import Path\n",
    "\n",
    "# Add project root to path\n",
    "PROJECT_ROOT = Path().resolve().parent\n",
    "sys.path.append(str(PROJECT_ROOT))\n",
    "\n",
    "from data_processings.datasets import LendingClubDataset\n",
    "from data_processings.feature_engineering import process_q3_features"
   ]
  },
  {
   "cell_type": "markdown",
   "id": "a1539d21",
   "metadata": {},
   "source": [
    "### Pre-Processing of Data"
   ]
  },
  {
   "cell_type": "markdown",
   "id": "533444e2",
   "metadata": {},
   "source": [
    "Loading Dataset for Accepted Loans"
   ]
  },
  {
   "cell_type": "code",
   "execution_count": 2,
   "id": "77112171",
   "metadata": {},
   "outputs": [],
   "source": [
    "num_samples = 5000\n",
    "dataloader = LendingClubDataset()\n",
    "accepted_df = dataloader.load(num_samples)"
   ]
  },
  {
   "cell_type": "markdown",
   "id": "b4ec4534",
   "metadata": {},
   "source": [
    "Feature Construction"
   ]
  },
  {
   "cell_type": "code",
   "execution_count": 3,
   "id": "1b1ea5ca",
   "metadata": {},
   "outputs": [
    {
     "data": {
      "text/html": [
       "<div>\n",
       "<style scoped>\n",
       "    .dataframe tbody tr th:only-of-type {\n",
       "        vertical-align: middle;\n",
       "    }\n",
       "\n",
       "    .dataframe tbody tr th {\n",
       "        vertical-align: top;\n",
       "    }\n",
       "\n",
       "    .dataframe thead th {\n",
       "        text-align: right;\n",
       "    }\n",
       "</style>\n",
       "<table border=\"1\" class=\"dataframe\">\n",
       "  <thead>\n",
       "    <tr style=\"text-align: right;\">\n",
       "      <th></th>\n",
       "      <th>loan_status</th>\n",
       "      <th>revol_util</th>\n",
       "      <th>purpose</th>\n",
       "      <th>home_ownership</th>\n",
       "      <th>emp_length</th>\n",
       "      <th>term</th>\n",
       "      <th>dti_new</th>\n",
       "      <th>loan_income_ratio</th>\n",
       "      <th>fico_mean</th>\n",
       "    </tr>\n",
       "  </thead>\n",
       "  <tbody>\n",
       "    <tr>\n",
       "      <th>0</th>\n",
       "      <td>Fully Paid</td>\n",
       "      <td>29.7</td>\n",
       "      <td>debt_consolidation</td>\n",
       "      <td>MORTGAGE</td>\n",
       "      <td>10+ years</td>\n",
       "      <td>36 months</td>\n",
       "      <td>5.91</td>\n",
       "      <td>0.065455</td>\n",
       "      <td>677.0</td>\n",
       "    </tr>\n",
       "    <tr>\n",
       "      <th>1</th>\n",
       "      <td>Fully Paid</td>\n",
       "      <td>19.2</td>\n",
       "      <td>small_business</td>\n",
       "      <td>MORTGAGE</td>\n",
       "      <td>10+ years</td>\n",
       "      <td>36 months</td>\n",
       "      <td>16.06</td>\n",
       "      <td>0.380000</td>\n",
       "      <td>717.0</td>\n",
       "    </tr>\n",
       "    <tr>\n",
       "      <th>2</th>\n",
       "      <td>Fully Paid</td>\n",
       "      <td>56.2</td>\n",
       "      <td>home_improvement</td>\n",
       "      <td>MORTGAGE</td>\n",
       "      <td>10+ years</td>\n",
       "      <td>60 months</td>\n",
       "      <td>13.85</td>\n",
       "      <td>0.317460</td>\n",
       "      <td>697.0</td>\n",
       "    </tr>\n",
       "    <tr>\n",
       "      <th>4</th>\n",
       "      <td>Fully Paid</td>\n",
       "      <td>64.5</td>\n",
       "      <td>major_purchase</td>\n",
       "      <td>MORTGAGE</td>\n",
       "      <td>3 years</td>\n",
       "      <td>60 months</td>\n",
       "      <td>25.37</td>\n",
       "      <td>0.099585</td>\n",
       "      <td>697.0</td>\n",
       "    </tr>\n",
       "    <tr>\n",
       "      <th>5</th>\n",
       "      <td>Fully Paid</td>\n",
       "      <td>68.4</td>\n",
       "      <td>debt_consolidation</td>\n",
       "      <td>RENT</td>\n",
       "      <td>4 years</td>\n",
       "      <td>36 months</td>\n",
       "      <td>10.20</td>\n",
       "      <td>0.351471</td>\n",
       "      <td>692.0</td>\n",
       "    </tr>\n",
       "    <tr>\n",
       "      <th>...</th>\n",
       "      <td>...</td>\n",
       "      <td>...</td>\n",
       "      <td>...</td>\n",
       "      <td>...</td>\n",
       "      <td>...</td>\n",
       "      <td>...</td>\n",
       "      <td>...</td>\n",
       "      <td>...</td>\n",
       "      <td>...</td>\n",
       "    </tr>\n",
       "    <tr>\n",
       "      <th>4993</th>\n",
       "      <td>Fully Paid</td>\n",
       "      <td>57.0</td>\n",
       "      <td>other</td>\n",
       "      <td>MORTGAGE</td>\n",
       "      <td>&lt; 1 year</td>\n",
       "      <td>60 months</td>\n",
       "      <td>14.41</td>\n",
       "      <td>0.360000</td>\n",
       "      <td>687.0</td>\n",
       "    </tr>\n",
       "    <tr>\n",
       "      <th>4996</th>\n",
       "      <td>Charged Off</td>\n",
       "      <td>67.7</td>\n",
       "      <td>debt_consolidation</td>\n",
       "      <td>MORTGAGE</td>\n",
       "      <td>3 years</td>\n",
       "      <td>60 months</td>\n",
       "      <td>17.63</td>\n",
       "      <td>0.254118</td>\n",
       "      <td>667.0</td>\n",
       "    </tr>\n",
       "    <tr>\n",
       "      <th>4997</th>\n",
       "      <td>Fully Paid</td>\n",
       "      <td>98.1</td>\n",
       "      <td>credit_card</td>\n",
       "      <td>RENT</td>\n",
       "      <td>2 years</td>\n",
       "      <td>36 months</td>\n",
       "      <td>35.01</td>\n",
       "      <td>0.073846</td>\n",
       "      <td>687.0</td>\n",
       "    </tr>\n",
       "    <tr>\n",
       "      <th>4998</th>\n",
       "      <td>Charged Off</td>\n",
       "      <td>62.1</td>\n",
       "      <td>credit_card</td>\n",
       "      <td>RENT</td>\n",
       "      <td>4 years</td>\n",
       "      <td>60 months</td>\n",
       "      <td>23.13</td>\n",
       "      <td>0.439865</td>\n",
       "      <td>707.0</td>\n",
       "    </tr>\n",
       "    <tr>\n",
       "      <th>4999</th>\n",
       "      <td>Fully Paid</td>\n",
       "      <td>47.8</td>\n",
       "      <td>debt_consolidation</td>\n",
       "      <td>MORTGAGE</td>\n",
       "      <td>2 years</td>\n",
       "      <td>36 months</td>\n",
       "      <td>24.50</td>\n",
       "      <td>0.181818</td>\n",
       "      <td>712.0</td>\n",
       "    </tr>\n",
       "  </tbody>\n",
       "</table>\n",
       "<p>4223 rows × 9 columns</p>\n",
       "</div>"
      ],
      "text/plain": [
       "      loan_status  revol_util             purpose home_ownership emp_length  \\\n",
       "0      Fully Paid        29.7  debt_consolidation       MORTGAGE  10+ years   \n",
       "1      Fully Paid        19.2      small_business       MORTGAGE  10+ years   \n",
       "2      Fully Paid        56.2    home_improvement       MORTGAGE  10+ years   \n",
       "4      Fully Paid        64.5      major_purchase       MORTGAGE    3 years   \n",
       "5      Fully Paid        68.4  debt_consolidation           RENT    4 years   \n",
       "...           ...         ...                 ...            ...        ...   \n",
       "4993   Fully Paid        57.0               other       MORTGAGE   < 1 year   \n",
       "4996  Charged Off        67.7  debt_consolidation       MORTGAGE    3 years   \n",
       "4997   Fully Paid        98.1         credit_card           RENT    2 years   \n",
       "4998  Charged Off        62.1         credit_card           RENT    4 years   \n",
       "4999   Fully Paid        47.8  debt_consolidation       MORTGAGE    2 years   \n",
       "\n",
       "            term  dti_new  loan_income_ratio  fico_mean  \n",
       "0      36 months     5.91           0.065455      677.0  \n",
       "1      36 months    16.06           0.380000      717.0  \n",
       "2      60 months    13.85           0.317460      697.0  \n",
       "4      60 months    25.37           0.099585      697.0  \n",
       "5      36 months    10.20           0.351471      692.0  \n",
       "...          ...      ...                ...        ...  \n",
       "4993   60 months    14.41           0.360000      687.0  \n",
       "4996   60 months    17.63           0.254118      667.0  \n",
       "4997   36 months    35.01           0.073846      687.0  \n",
       "4998   60 months    23.13           0.439865      707.0  \n",
       "4999   36 months    24.50           0.181818      712.0  \n",
       "\n",
       "[4223 rows x 9 columns]"
      ]
     },
     "execution_count": 3,
     "metadata": {},
     "output_type": "execute_result"
    }
   ],
   "source": [
    "new_df = process_q3_features(accepted_df)\n",
    "new_df"
   ]
  },
  {
   "cell_type": "markdown",
   "id": "28b8141b",
   "metadata": {},
   "source": [
    "Feature "
   ]
  },
  {
   "cell_type": "code",
   "execution_count": null,
   "id": "7f45659f",
   "metadata": {},
   "outputs": [],
   "source": [
    "print(list(accepted_df.columns))"
   ]
  },
  {
   "cell_type": "code",
   "execution_count": null,
   "id": "63077174",
   "metadata": {},
   "outputs": [],
   "source": [
    "accepted_df[\"loan_status\"].unique()"
   ]
  },
  {
   "cell_type": "code",
   "execution_count": null,
   "id": "7c0b45da",
   "metadata": {},
   "outputs": [],
   "source": [
    "accepted_df[[\"id\"]]"
   ]
  },
  {
   "cell_type": "code",
   "execution_count": null,
   "id": "1d50bac1",
   "metadata": {},
   "outputs": [],
   "source": [
    "accepted_df['dti_final'] = accepted_df['dti_joint'].fillna(accepted_df['dti'])"
   ]
  },
  {
   "cell_type": "code",
   "execution_count": null,
   "id": "74a6ad77",
   "metadata": {},
   "outputs": [],
   "source": [
    "accepted_df[\"annual_inc\"].unique()\n"
   ]
  },
  {
   "cell_type": "code",
   "execution_count": null,
   "id": "c55ab9ea",
   "metadata": {},
   "outputs": [],
   "source": []
  }
 ],
 "metadata": {
  "kernelspec": {
   "display_name": "Python 3",
   "language": "python",
   "name": "python3"
  },
  "language_info": {
   "codemirror_mode": {
    "name": "ipython",
    "version": 3
   },
   "file_extension": ".py",
   "mimetype": "text/x-python",
   "name": "python",
   "nbconvert_exporter": "python",
   "pygments_lexer": "ipython3",
   "version": "3.11.9"
  }
 },
 "nbformat": 4,
 "nbformat_minor": 5
}
