{
 "cells": [
  {
   "cell_type": "markdown",
   "id": "4c898de6",
   "metadata": {},
   "source": [
    "# Q3: How Robust Credit Risk Models are Over Time"
   ]
  },
  {
   "cell_type": "markdown",
   "id": "439e68c9",
   "metadata": {},
   "source": [
    "This script compares Naive Bayes, Support Vector Machines, Decision Trees, [INSERT 2 NEURAL NET CLASSIFIERS] in their performance in credit risk prediction when trained and tested data differ in economic periods. The dataset used is that of https://www.kaggle.com/datasets/wordsforthewise/lending-club/data, where the economic periods detailed are between 2007 to 2018. This is split in half such that 2007-2012 and 2013-2018 denote periods 1 and 2, respectively. All models will be trained on period 1 and tested on period 2. The results of this will then be compared to determine temporal stability of each model. The classification models were developed to determine whether a candidate would have a low or high credit risk.  "
   ]
  },
  {
   "cell_type": "markdown",
   "id": "616331cf",
   "metadata": {},
   "source": [
    "## Imports"
   ]
  },
  {
   "cell_type": "code",
   "execution_count": null,
   "id": "fb4505fa",
   "metadata": {},
   "outputs": [],
   "source": [
    "import numpy as np\n",
    "import pandas as pd\n",
    "import os\n",
    "import sys\n",
    "import subprocess\n",
    "from pathlib import Path\n",
    "from sklearn.model_selection import train_test_split\n",
    "from sklearn.naive_bayes import GaussianNB\n",
    "from sklearn.svm import SVC\n",
    "from sklearn.tree import DecisionTreeClassifier, plot_tree\n",
    "from sklearn.preprocessing import MinMaxScaler\n",
    "from sklearn.metrics import confusion_matrix\n",
    "from sklearn.metrics import classification_report\n",
    "\n",
    "import warnings\n",
    "\n",
    "# Add project root to path\n",
    "PROJECT_ROOT = Path().resolve().parent\n",
    "sys.path.append(str(PROJECT_ROOT))\n",
    "warnings.filterwarnings(\"ignore\")\n",
    "\n",
    "from data_processings.datasets import LendingClubDataset\n",
    "from data_processings.feature_engineering import process_q3_features"
   ]
  },
  {
   "cell_type": "markdown",
   "id": "a1539d21",
   "metadata": {},
   "source": [
    "## Pre-Processing of Data"
   ]
  },
  {
   "cell_type": "markdown",
   "id": "533444e2",
   "metadata": {},
   "source": [
    "Loading Dataset for Accepted Loans"
   ]
  },
  {
   "cell_type": "code",
   "execution_count": null,
   "id": "77112171",
   "metadata": {},
   "outputs": [],
   "source": [
    "num_samples = 100000\n",
    "dataloader = LendingClubDataset()\n",
    "accepted_df = dataloader.load(num_samples)"
   ]
  },
  {
   "cell_type": "markdown",
   "id": "b4ec4534",
   "metadata": {},
   "source": [
    "Feature Construction"
   ]
  },
  {
   "cell_type": "code",
   "execution_count": null,
   "id": "1b1ea5ca",
   "metadata": {},
   "outputs": [],
   "source": [
    "# Retain relevant columns and build new features from existing features\n",
    "accepted_df = process_q3_features(accepted_df)\n",
    "accepted_df"
   ]
  },
  {
   "cell_type": "code",
   "execution_count": null,
   "id": "669b66f0",
   "metadata": {},
   "outputs": [],
   "source": [
    "# Issue Year \n",
    "accepted_df[\"issue_year\"].unique()"
   ]
  },
  {
   "cell_type": "markdown",
   "id": "28b8141b",
   "metadata": {},
   "source": [
    "Feature Type Conversion"
   ]
  },
  {
   "cell_type": "code",
   "execution_count": null,
   "id": "2acda249",
   "metadata": {},
   "outputs": [],
   "source": [
    "# Binary Mapping for Binary Categorical Features \n",
    "accepted_df = accepted_df.apply(lambda x: x.str.strip() if x.dtype == \"object\" else x) # Remove leading and trailing spaces\n",
    "accepted_df['loan_status'] = accepted_df['loan_status'].map({'Fully Paid': 0, 'Charged Off': 1})\n",
    "accepted_df['application_type'] = accepted_df['application_type'].map({'Individual': 0, 'Joint App': 1})\n",
    "accepted_df['term'] = accepted_df['term'].map({'36 months': 0, '60 months': 1})\n",
    "accepted_df"
   ]
  },
  {
   "cell_type": "code",
   "execution_count": null,
   "id": "3e9081ed",
   "metadata": {},
   "outputs": [],
   "source": [
    "# One Hot Encoding for Non-Binary Categorical Features\n",
    "categorical_features = [\"purpose\", \"home_ownership\", \"emp_length\", \"verification_status\"]\n",
    "accepted_df = pd.get_dummies(accepted_df, columns=categorical_features, drop_first=True, dtype=int)\n",
    "accepted_df"
   ]
  },
  {
   "cell_type": "code",
   "execution_count": null,
   "id": "7f45659f",
   "metadata": {},
   "outputs": [],
   "source": [
    "# Verify Types\n",
    "for col, dtype in accepted_df.dtypes.items():\n",
    "    print(f\"{col}: {dtype}\")"
   ]
  },
  {
   "cell_type": "markdown",
   "id": "67fa83f9",
   "metadata": {},
   "source": [
    "Train-Test Split Based on Economic Periods: Period 1 (Train) and Period (Test)\n",
    "\n",
    "where: Period 1 (2007-2012) and Period 2 (2013-2018)"
   ]
  },
  {
   "cell_type": "code",
   "execution_count": null,
   "id": "3d3a8d85",
   "metadata": {},
   "outputs": [],
   "source": [
    "year_indicator_col = 'issue_year'\n",
    "target_col = 'loan_status'\n",
    "train_df = accepted_df[accepted_df[year_indicator_col] <= 2012].copy()\n",
    "test_df = accepted_df[accepted_df[year_indicator_col] > 2013].copy()\n",
    "X_train = train_df.drop(columns=[target_col])\n",
    "y_train = train_df[target_col]\n",
    "X_test = test_df.drop(columns=[target_col])\n",
    "y_test = test_df[target_col]"
   ]
  },
  {
   "cell_type": "markdown",
   "id": "4ae59d10",
   "metadata": {},
   "source": [
    "Scaling with MinMax"
   ]
  },
  {
   "cell_type": "code",
   "execution_count": null,
   "id": "699a293f",
   "metadata": {},
   "outputs": [],
   "source": [
    "MinMax_scaler = MinMaxScaler()\n",
    "X_train_scaled = MinMax_scaler.fit_transform(X_train)\n",
    "X_test_scaled = MinMax_scaler.transform(X_test)"
   ]
  },
  {
   "cell_type": "markdown",
   "id": "740bfe3c",
   "metadata": {},
   "source": [
    "## Model Training and Evaluation"
   ]
  },
  {
   "cell_type": "code",
   "execution_count": null,
   "id": "3a0c2abf",
   "metadata": {},
   "outputs": [],
   "source": [
    "class_mapping = {0: 'Low Risk',\n",
    "                 1: 'High Risk'}"
   ]
  },
  {
   "cell_type": "markdown",
   "id": "6539a43d",
   "metadata": {},
   "source": [
    "**Model 1: Naive Bayes**"
   ]
  },
  {
   "cell_type": "markdown",
   "id": "49f48abc",
   "metadata": {},
   "source": [
    "Training"
   ]
  },
  {
   "cell_type": "code",
   "execution_count": null,
   "id": "5d9517fe",
   "metadata": {},
   "outputs": [],
   "source": [
    "GNB = GaussianNB()\n",
    "GNB.fit(X_train, y_train)"
   ]
  },
  {
   "cell_type": "markdown",
   "id": "90e6cb7d",
   "metadata": {},
   "source": [
    "Evaluation"
   ]
  },
  {
   "cell_type": "code",
   "execution_count": null,
   "id": "3fc362e9",
   "metadata": {},
   "outputs": [],
   "source": [
    "GNB_preds = GNB.predict(X_test)\n",
    "GNB_summary = classification_report(y_true=y_test, y_pred=GNB_preds, labels=list(class_mapping.keys()), target_names=list(class_mapping.values()))\n",
    "print(f\"Naive Bayes Accuracy: {GNB_summary[\"accuracy\"]}\")"
   ]
  },
  {
   "cell_type": "markdown",
   "id": "adcdcadd",
   "metadata": {},
   "source": [
    "**Model 2: Support Vector Machine**"
   ]
  },
  {
   "cell_type": "markdown",
   "id": "cf86e77f",
   "metadata": {},
   "source": [
    "Training"
   ]
  },
  {
   "cell_type": "code",
   "execution_count": null,
   "id": "1b51ca9b",
   "metadata": {},
   "outputs": [],
   "source": [
    "C_val = 0.1\n",
    "SVM = SVC(kernel='linear', C=C_val, random_state=10)\n",
    "SVM.fit(X_train, y_train)"
   ]
  },
  {
   "cell_type": "markdown",
   "id": "a69e528c",
   "metadata": {},
   "source": [
    "Evaluation"
   ]
  },
  {
   "cell_type": "code",
   "execution_count": null,
   "id": "67e8efa2",
   "metadata": {},
   "outputs": [],
   "source": [
    "SVM_preds = SVM.predict(X_test)\n",
    "SVM_summary = classification_report(y_true=y_test, y_pred=SVM_preds, labels=list(class_mapping.keys()), target_names=list(class_mapping.values()))\n",
    "print(f\"Support Vector Machine Accuracy: {SVM_summary[\"accuracy\"]}\")"
   ]
  },
  {
   "cell_type": "markdown",
   "id": "409318f8",
   "metadata": {},
   "source": [
    "**Model 3: Decision Tree**"
   ]
  },
  {
   "cell_type": "markdown",
   "id": "31126be0",
   "metadata": {},
   "source": [
    "Training"
   ]
  },
  {
   "cell_type": "code",
   "execution_count": null,
   "id": "2b1c3475",
   "metadata": {},
   "outputs": [],
   "source": [
    "DTC = DecisionTreeClassifier(random_state=10, criterion=\"entropy\")\n",
    "DTC.fit(X_train, y_train)"
   ]
  },
  {
   "cell_type": "markdown",
   "id": "138f177d",
   "metadata": {},
   "source": [
    "Evaluation"
   ]
  },
  {
   "cell_type": "code",
   "execution_count": null,
   "id": "884ecafa",
   "metadata": {},
   "outputs": [],
   "source": [
    "DTC_preds = DTC.predict(X_test)\n",
    "DTC_summary = classification_report(y_true=y_test, y_pred=DTC_preds, labels=list(class_mapping.keys()), target_names=list(class_mapping.values()))\n",
    "print(f\"Decision Tree Accuracy: {DTC_summary[\"accuracy\"]}\")"
   ]
  },
  {
   "cell_type": "markdown",
   "id": "1fce82e3",
   "metadata": {},
   "source": [
    "Model 4: Neural Net"
   ]
  },
  {
   "cell_type": "code",
   "execution_count": null,
   "id": "9b6c5073",
   "metadata": {},
   "outputs": [],
   "source": []
  },
  {
   "cell_type": "markdown",
   "id": "e9cc06e6",
   "metadata": {},
   "source": [
    "Model 5: Neural Net"
   ]
  },
  {
   "cell_type": "code",
   "execution_count": null,
   "id": "c55ab9ea",
   "metadata": {},
   "outputs": [],
   "source": []
  }
 ],
 "metadata": {
  "kernelspec": {
   "display_name": "Python 3",
   "language": "python",
   "name": "python3"
  },
  "language_info": {
   "codemirror_mode": {
    "name": "ipython",
    "version": 3
   },
   "file_extension": ".py",
   "mimetype": "text/x-python",
   "name": "python",
   "nbconvert_exporter": "python",
   "pygments_lexer": "ipython3",
   "version": "3.11.9"
  }
 },
 "nbformat": 4,
 "nbformat_minor": 5
}
